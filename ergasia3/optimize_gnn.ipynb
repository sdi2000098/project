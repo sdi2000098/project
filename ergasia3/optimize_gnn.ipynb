{
 "cells": [
  {
   "cell_type": "code",
   "execution_count": null,
   "metadata": {},
   "outputs": [],
   "source": [
    "import subprocess\n",
    "import optuna\n",
    "\n",
    "def objective(trial):\n",
    "    k = trial.suggest_int('k', 30, 100)  \n",
    "    E = trial.suggest_int('E', 20, 50)\n",
    "    R = trial.suggest_int('R', 1, 3)\n",
    "    command = f'./graph -d dataset.dat -q query.dat -k {k} -E{E} -R {R} -o testlsh.txt -N 1 -m 1'\n",
    "    result = subprocess.run(command, shell=True, capture_output=True, text=True)\n",
    "    \n",
    "    # Extract the integer return value from your program\n",
    "    # Assuming the return value is printed to stdout or stderr, parse it from `result.stdout` or `result.stderr`\n",
    "    # Here, I'm just using a placeholder for the return value\n",
    "    output_lines = result.stdout.split('\\n')\n",
    "    for line in output_lines:\n",
    "        if \"Return Value:\" in line:\n",
    "            try:\n",
    "                output = float(line.split(':')[1].strip())\n",
    "                break\n",
    "            except ValueError:\n",
    "                output = float('inf')\n",
    "    print(f\"Trial {trial.number}, Return Value: {output}\")\n",
    "    return output\n",
    "\n",
    "study = optuna.create_study(direction='minimize')\n",
    "study.optimize(objective, n_trials=50)  # You can adjust the number of trials\n",
    "\n",
    "print(\"Study statistics: \")\n",
    "print(\"  Number of finished trials: \", len(study.trials))\n",
    "print(\"  Best trial:\")\n",
    "trial = study.best_trial\n",
    "print(\"    Value: \", trial.value)\n",
    "print(\"    Params: \")\n",
    "for key, value in trial.params.items():\n",
    "    print(f\"    {key}: {value}\")"
   ]
  },
  {
   "cell_type": "code",
   "execution_count": null,
   "metadata": {},
   "outputs": [],
   "source": [
    "from optuna.visualization import plot_optimization_history, plot_param_importances\n",
    "\n",
    "plot_optimization_history(study)\n",
    "plot_param_importances(study)"
   ]
  }
 ],
 "metadata": {
  "language_info": {
   "name": "python"
  }
 },
 "nbformat": 4,
 "nbformat_minor": 2
}
